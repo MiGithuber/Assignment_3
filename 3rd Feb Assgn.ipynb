{
 "cells": [
  {
   "cell_type": "markdown",
   "id": "02217b84-6e0f-42e1-a267-188cb1737289",
   "metadata": {},
   "source": [
    "1. def is used to define a function."
   ]
  },
  {
   "cell_type": "code",
   "execution_count": 34,
   "id": "127cbbce-9fd3-465e-a9ce-c142124b0a05",
   "metadata": {},
   "outputs": [],
   "source": [
    "l1=list(range(1,25))"
   ]
  },
  {
   "cell_type": "code",
   "execution_count": 35,
   "id": "75e9cb6b-2b7b-4b17-8608-c0b1ef49c53f",
   "metadata": {},
   "outputs": [],
   "source": [
    "def odd_num(a):\n",
    "    l=[]\n",
    "    for i in (a):\n",
    "        if (i%2==1):\n",
    "            l.append(i)    \n",
    "    return(l)"
   ]
  },
  {
   "cell_type": "code",
   "execution_count": 36,
   "id": "1e831f63-c89f-4ed5-ad1e-cab4bc0829ae",
   "metadata": {},
   "outputs": [
    {
     "data": {
      "text/plain": [
       "[1, 3, 5, 7, 9, 11, 13, 15, 17, 19, 21, 23]"
      ]
     },
     "execution_count": 36,
     "metadata": {},
     "output_type": "execute_result"
    }
   ],
   "source": [
    "odd_num(l1)"
   ]
  },
  {
   "cell_type": "markdown",
   "id": "077cee05-6f2e-4b38-b0a6-21ad4e52aff6",
   "metadata": {},
   "source": []
  },
  {
   "cell_type": "markdown",
   "id": "4574f530-e910-419d-8784-e49b6e154fdd",
   "metadata": {},
   "source": [
    "2.*args is used for passing multiple arguments even if they are not given in the parameters,                                     \n",
    "*kwargs is called keyword arguments, * defines a key and value, **kwargs output is always a dictionary.\n"
   ]
  },
  {
   "cell_type": "code",
   "execution_count": 1,
   "id": "756c98a7-9412-4cde-acea-282fbcfd753e",
   "metadata": {},
   "outputs": [],
   "source": [
    "def func(*args):\n",
    "    pass"
   ]
  },
  {
   "cell_type": "code",
   "execution_count": 2,
   "id": "1506d673-4fe6-428a-b614-fc49d30a362e",
   "metadata": {},
   "outputs": [],
   "source": [
    "def func1(**kwargs):\n",
    "    pass"
   ]
  },
  {
   "cell_type": "code",
   "execution_count": null,
   "id": "ae71eea7-b0c1-4950-a761-e534cc670f69",
   "metadata": {},
   "outputs": [],
   "source": []
  },
  {
   "cell_type": "markdown",
   "id": "8ad90064-83f3-4d91-9505-6bb85c7f32ee",
   "metadata": {},
   "source": [
    "3.An iterator is an object that contains a countable number of values. An iterator is an object that can be iterated upon, meaning that you can traverse through all the values."
   ]
  },
  {
   "cell_type": "code",
   "execution_count": 100,
   "id": "999a6b2b-75a4-405a-9161-041e77f8c47a",
   "metadata": {},
   "outputs": [],
   "source": [
    "l=[2,4,6,8,10,12,14,16,18,20]"
   ]
  },
  {
   "cell_type": "code",
   "execution_count": 102,
   "id": "55bb1378-f38a-440f-b31c-f93dab5219e2",
   "metadata": {},
   "outputs": [
    {
     "name": "stdout",
     "output_type": "stream",
     "text": [
      "[2, 4, 6, 8, 10]\n"
     ]
    }
   ],
   "source": [
    "for i in l:\n",
    "    i=l[0:5]\n",
    "print(i)\n",
    "    \n",
    "    "
   ]
  },
  {
   "cell_type": "code",
   "execution_count": null,
   "id": "d5109615-31c1-4dfe-a6e8-43b6a8596dd5",
   "metadata": {},
   "outputs": [],
   "source": []
  },
  {
   "cell_type": "markdown",
   "id": "555d7c1d-921b-474a-be96-81cce95571d1",
   "metadata": {},
   "source": [
    "4. A Generator is a function that returns an iterator that produces a sequence of values when iterated over. \"Yield \" is a keyword which is used in generator functions."
   ]
  },
  {
   "cell_type": "code",
   "execution_count": 22,
   "id": "91a96a39-b932-47c8-ae88-04ef7e409a47",
   "metadata": {},
   "outputs": [],
   "source": [
    "def func_fib(n):\n",
    "    l=[]\n",
    "    a, b = 0, 1\n",
    "    for i in range(n):\n",
    "        yield a\n",
    "        a, b = b, a+b\n",
    "    return l.append"
   ]
  },
  {
   "cell_type": "code",
   "execution_count": 23,
   "id": "05b9fc3f-db1e-4703-892f-9e1f00be6ec2",
   "metadata": {},
   "outputs": [],
   "source": [
    "f=func_fib(10)"
   ]
  },
  {
   "cell_type": "code",
   "execution_count": 24,
   "id": "60596f81-6513-48a1-ae92-690933a210a5",
   "metadata": {},
   "outputs": [
    {
     "name": "stdout",
     "output_type": "stream",
     "text": [
      "0\n",
      "1\n",
      "1\n",
      "2\n",
      "3\n",
      "5\n",
      "8\n",
      "13\n",
      "21\n",
      "34\n"
     ]
    }
   ],
   "source": [
    "for i in f:\n",
    "    print(i)"
   ]
  },
  {
   "cell_type": "code",
   "execution_count": null,
   "id": "62e71110-e57e-46d6-9169-dbc121a52f35",
   "metadata": {},
   "outputs": [],
   "source": []
  },
  {
   "cell_type": "markdown",
   "id": "77ea8c88-8938-4550-a743-e6c07b5682eb",
   "metadata": {},
   "source": [
    "5."
   ]
  },
  {
   "cell_type": "code",
   "execution_count": null,
   "id": "18d3117a-b2a5-4881-81f6-93f57902b863",
   "metadata": {},
   "outputs": [],
   "source": []
  }
 ],
 "metadata": {
  "kernelspec": {
   "display_name": "Python 3 (ipykernel)",
   "language": "python",
   "name": "python3"
  },
  "language_info": {
   "codemirror_mode": {
    "name": "ipython",
    "version": 3
   },
   "file_extension": ".py",
   "mimetype": "text/x-python",
   "name": "python",
   "nbconvert_exporter": "python",
   "pygments_lexer": "ipython3",
   "version": "3.10.8"
  }
 },
 "nbformat": 4,
 "nbformat_minor": 5
}
